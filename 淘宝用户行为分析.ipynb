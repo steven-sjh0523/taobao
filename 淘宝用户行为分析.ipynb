{
 "cells": [
  {
   "cell_type": "code",
   "execution_count": 333,
   "metadata": {},
   "outputs": [],
   "source": [
    "import pandas as pd\n",
    "import numpy as np\n",
    "import matplotlib.pyplot as plt\n",
    "import seaborn as sns\n",
    "%matplotlib inline\n",
    "plt.rcParams['font.sans-serif'] = ['Microsoft YaHei'] # 指定默认字体 \n",
    "plt.rcParams['axes.unicode_minus'] = False # 解决保存图像是负号'-'显示为方块的问题\n",
    "data_user=pd.read_csv(r'D:\\Python教程\\数据分析师训练营\\数据分析项目\\taobao_recommend_train_user\\UserBehavior.csv',\\\n",
    "                     names=['user_id','item_id','category','behavior','time'],\\\n",
    "                      sep=',',nrows=3000000)"
   ]
  },
  {
   "cell_type": "code",
   "execution_count": 21,
   "metadata": {
    "scrolled": true
   },
   "outputs": [
    {
     "data": {
      "text/html": [
       "<div>\n",
       "<style scoped>\n",
       "    .dataframe tbody tr th:only-of-type {\n",
       "        vertical-align: middle;\n",
       "    }\n",
       "\n",
       "    .dataframe tbody tr th {\n",
       "        vertical-align: top;\n",
       "    }\n",
       "\n",
       "    .dataframe thead th {\n",
       "        text-align: right;\n",
       "    }\n",
       "</style>\n",
       "<table border=\"1\" class=\"dataframe\">\n",
       "  <thead>\n",
       "    <tr style=\"text-align: right;\">\n",
       "      <th></th>\n",
       "      <th>user_id</th>\n",
       "      <th>item_id</th>\n",
       "      <th>category</th>\n",
       "      <th>behavior</th>\n",
       "      <th>time</th>\n",
       "    </tr>\n",
       "  </thead>\n",
       "  <tbody>\n",
       "    <tr>\n",
       "      <td>0</td>\n",
       "      <td>1</td>\n",
       "      <td>2268318</td>\n",
       "      <td>2520377</td>\n",
       "      <td>pv</td>\n",
       "      <td>1511544070</td>\n",
       "    </tr>\n",
       "    <tr>\n",
       "      <td>1</td>\n",
       "      <td>1</td>\n",
       "      <td>2333346</td>\n",
       "      <td>2520771</td>\n",
       "      <td>pv</td>\n",
       "      <td>1511561733</td>\n",
       "    </tr>\n",
       "    <tr>\n",
       "      <td>2</td>\n",
       "      <td>1</td>\n",
       "      <td>2576651</td>\n",
       "      <td>149192</td>\n",
       "      <td>pv</td>\n",
       "      <td>1511572885</td>\n",
       "    </tr>\n",
       "    <tr>\n",
       "      <td>3</td>\n",
       "      <td>1</td>\n",
       "      <td>3830808</td>\n",
       "      <td>4181361</td>\n",
       "      <td>pv</td>\n",
       "      <td>1511593493</td>\n",
       "    </tr>\n",
       "    <tr>\n",
       "      <td>4</td>\n",
       "      <td>1</td>\n",
       "      <td>4365585</td>\n",
       "      <td>2520377</td>\n",
       "      <td>pv</td>\n",
       "      <td>1511596146</td>\n",
       "    </tr>\n",
       "  </tbody>\n",
       "</table>\n",
       "</div>"
      ],
      "text/plain": [
       "   user_id  item_id  category behavior        time\n",
       "0        1  2268318   2520377       pv  1511544070\n",
       "1        1  2333346   2520771       pv  1511561733\n",
       "2        1  2576651    149192       pv  1511572885\n",
       "3        1  3830808   4181361       pv  1511593493\n",
       "4        1  4365585   2520377       pv  1511596146"
      ]
     },
     "execution_count": 21,
     "metadata": {},
     "output_type": "execute_result"
    }
   ],
   "source": [
    "data_user.head()"
   ]
  },
  {
   "cell_type": "code",
   "execution_count": 22,
   "metadata": {},
   "outputs": [
    {
     "data": {
      "text/html": [
       "<div>\n",
       "<style scoped>\n",
       "    .dataframe tbody tr th:only-of-type {\n",
       "        vertical-align: middle;\n",
       "    }\n",
       "\n",
       "    .dataframe tbody tr th {\n",
       "        vertical-align: top;\n",
       "    }\n",
       "\n",
       "    .dataframe thead th {\n",
       "        text-align: right;\n",
       "    }\n",
       "</style>\n",
       "<table border=\"1\" class=\"dataframe\">\n",
       "  <thead>\n",
       "    <tr style=\"text-align: right;\">\n",
       "      <th></th>\n",
       "      <th>user_id</th>\n",
       "      <th>item_id</th>\n",
       "      <th>category</th>\n",
       "      <th>time</th>\n",
       "    </tr>\n",
       "  </thead>\n",
       "  <tbody>\n",
       "    <tr>\n",
       "      <td>count</td>\n",
       "      <td>3.000000e+06</td>\n",
       "      <td>3.000000e+06</td>\n",
       "      <td>3.000000e+06</td>\n",
       "      <td>3.000000e+06</td>\n",
       "    </tr>\n",
       "    <tr>\n",
       "      <td>mean</td>\n",
       "      <td>2.485496e+05</td>\n",
       "      <td>2.577731e+06</td>\n",
       "      <td>2.712066e+06</td>\n",
       "      <td>1.511962e+09</td>\n",
       "    </tr>\n",
       "    <tr>\n",
       "      <td>std</td>\n",
       "      <td>2.855340e+05</td>\n",
       "      <td>1.487678e+06</td>\n",
       "      <td>1.466055e+06</td>\n",
       "      <td>9.060056e+05</td>\n",
       "    </tr>\n",
       "    <tr>\n",
       "      <td>min</td>\n",
       "      <td>1.000000e+00</td>\n",
       "      <td>2.600000e+01</td>\n",
       "      <td>2.171000e+03</td>\n",
       "      <td>4.401600e+04</td>\n",
       "    </tr>\n",
       "    <tr>\n",
       "      <td>25%</td>\n",
       "      <td>1.239620e+05</td>\n",
       "      <td>1.293940e+06</td>\n",
       "      <td>1.349561e+06</td>\n",
       "      <td>1.511763e+09</td>\n",
       "    </tr>\n",
       "    <tr>\n",
       "      <td>50%</td>\n",
       "      <td>1.620650e+05</td>\n",
       "      <td>2.575122e+06</td>\n",
       "      <td>2.723483e+06</td>\n",
       "      <td>1.511966e+09</td>\n",
       "    </tr>\n",
       "    <tr>\n",
       "      <td>75%</td>\n",
       "      <td>1.989660e+05</td>\n",
       "      <td>3.859573e+06</td>\n",
       "      <td>4.145813e+06</td>\n",
       "      <td>1.512181e+09</td>\n",
       "    </tr>\n",
       "    <tr>\n",
       "      <td>max</td>\n",
       "      <td>1.018011e+06</td>\n",
       "      <td>5.163067e+06</td>\n",
       "      <td>5.161669e+06</td>\n",
       "      <td>1.535452e+09</td>\n",
       "    </tr>\n",
       "  </tbody>\n",
       "</table>\n",
       "</div>"
      ],
      "text/plain": [
       "            user_id       item_id      category          time\n",
       "count  3.000000e+06  3.000000e+06  3.000000e+06  3.000000e+06\n",
       "mean   2.485496e+05  2.577731e+06  2.712066e+06  1.511962e+09\n",
       "std    2.855340e+05  1.487678e+06  1.466055e+06  9.060056e+05\n",
       "min    1.000000e+00  2.600000e+01  2.171000e+03  4.401600e+04\n",
       "25%    1.239620e+05  1.293940e+06  1.349561e+06  1.511763e+09\n",
       "50%    1.620650e+05  2.575122e+06  2.723483e+06  1.511966e+09\n",
       "75%    1.989660e+05  3.859573e+06  4.145813e+06  1.512181e+09\n",
       "max    1.018011e+06  5.163067e+06  5.161669e+06  1.535452e+09"
      ]
     },
     "execution_count": 22,
     "metadata": {},
     "output_type": "execute_result"
    }
   ],
   "source": [
    "data_user.describe()"
   ]
  },
  {
   "cell_type": "code",
   "execution_count": 23,
   "metadata": {},
   "outputs": [],
   "source": [
    "# 时间戳转换,只保留到小时即可\n",
    "#方法一，用time.strftime()，但此方法转换后的类型为str格式\n",
    "import time\n",
    "data_user['date']=data_user['time'].apply(lambda x: time.strftime('%Y-%m-%d',time.localtime(x)))\n",
    "data_user['hour']=data_user['time'].apply(lambda x: time.strftime('%H',time.localtime(x)))"
   ]
  },
  {
   "cell_type": "code",
   "execution_count": 24,
   "metadata": {},
   "outputs": [
    {
     "data": {
      "text/html": [
       "<div>\n",
       "<style scoped>\n",
       "    .dataframe tbody tr th:only-of-type {\n",
       "        vertical-align: middle;\n",
       "    }\n",
       "\n",
       "    .dataframe tbody tr th {\n",
       "        vertical-align: top;\n",
       "    }\n",
       "\n",
       "    .dataframe thead th {\n",
       "        text-align: right;\n",
       "    }\n",
       "</style>\n",
       "<table border=\"1\" class=\"dataframe\">\n",
       "  <thead>\n",
       "    <tr style=\"text-align: right;\">\n",
       "      <th></th>\n",
       "      <th>user_id</th>\n",
       "      <th>item_id</th>\n",
       "      <th>category</th>\n",
       "      <th>behavior</th>\n",
       "      <th>time</th>\n",
       "      <th>date</th>\n",
       "      <th>hour</th>\n",
       "    </tr>\n",
       "  </thead>\n",
       "  <tbody>\n",
       "    <tr>\n",
       "      <td>0</td>\n",
       "      <td>1</td>\n",
       "      <td>2268318</td>\n",
       "      <td>2520377</td>\n",
       "      <td>pv</td>\n",
       "      <td>1511544070</td>\n",
       "      <td>2017-11-25</td>\n",
       "      <td>01</td>\n",
       "    </tr>\n",
       "    <tr>\n",
       "      <td>1</td>\n",
       "      <td>1</td>\n",
       "      <td>2333346</td>\n",
       "      <td>2520771</td>\n",
       "      <td>pv</td>\n",
       "      <td>1511561733</td>\n",
       "      <td>2017-11-25</td>\n",
       "      <td>06</td>\n",
       "    </tr>\n",
       "    <tr>\n",
       "      <td>2</td>\n",
       "      <td>1</td>\n",
       "      <td>2576651</td>\n",
       "      <td>149192</td>\n",
       "      <td>pv</td>\n",
       "      <td>1511572885</td>\n",
       "      <td>2017-11-25</td>\n",
       "      <td>09</td>\n",
       "    </tr>\n",
       "    <tr>\n",
       "      <td>3</td>\n",
       "      <td>1</td>\n",
       "      <td>3830808</td>\n",
       "      <td>4181361</td>\n",
       "      <td>pv</td>\n",
       "      <td>1511593493</td>\n",
       "      <td>2017-11-25</td>\n",
       "      <td>15</td>\n",
       "    </tr>\n",
       "    <tr>\n",
       "      <td>4</td>\n",
       "      <td>1</td>\n",
       "      <td>4365585</td>\n",
       "      <td>2520377</td>\n",
       "      <td>pv</td>\n",
       "      <td>1511596146</td>\n",
       "      <td>2017-11-25</td>\n",
       "      <td>15</td>\n",
       "    </tr>\n",
       "  </tbody>\n",
       "</table>\n",
       "</div>"
      ],
      "text/plain": [
       "   user_id  item_id  category behavior        time        date hour\n",
       "0        1  2268318   2520377       pv  1511544070  2017-11-25   01\n",
       "1        1  2333346   2520771       pv  1511561733  2017-11-25   06\n",
       "2        1  2576651    149192       pv  1511572885  2017-11-25   09\n",
       "3        1  3830808   4181361       pv  1511593493  2017-11-25   15\n",
       "4        1  4365585   2520377       pv  1511596146  2017-11-25   15"
      ]
     },
     "execution_count": 24,
     "metadata": {},
     "output_type": "execute_result"
    }
   ],
   "source": [
    "data_user.head()"
   ]
  },
  {
   "cell_type": "code",
   "execution_count": 25,
   "metadata": {},
   "outputs": [
    {
     "name": "stdout",
     "output_type": "stream",
     "text": [
      "<class 'pandas.core.frame.DataFrame'>\n",
      "RangeIndex: 3000000 entries, 0 to 2999999\n",
      "Data columns (total 7 columns):\n",
      "user_id     int64\n",
      "item_id     int64\n",
      "category    int64\n",
      "behavior    object\n",
      "time        int64\n",
      "date        object\n",
      "hour        object\n",
      "dtypes: int64(4), object(3)\n",
      "memory usage: 160.2+ MB\n"
     ]
    }
   ],
   "source": [
    "data_user.info()"
   ]
  },
  {
   "cell_type": "code",
   "execution_count": 8,
   "metadata": {},
   "outputs": [],
   "source": [
    "# 时间戳转换,只保留到小时即可\n",
    "#方法二,利用pd.to_datetime()转换，但要在此时区上加8小时，格式为datetime64\n",
    "data_user['date_']=pd.to_datetime(data_user.time.values,unit='s',utc=True).tz_convert('Asia/Shanghai')\n",
    "data_user['date']=data_user['date_'].astype('str').str[:10]\n",
    "data_user['hour']=data_user['date_'].astype('str').str[11:13]"
   ]
  },
  {
   "cell_type": "code",
   "execution_count": 9,
   "metadata": {},
   "outputs": [
    {
     "name": "stdout",
     "output_type": "stream",
     "text": [
      "<class 'pandas.core.frame.DataFrame'>\n",
      "RangeIndex: 3000000 entries, 0 to 2999999\n",
      "Data columns (total 7 columns):\n",
      "user_id     int64\n",
      "item_id     int64\n",
      "category    int64\n",
      "behavior    object\n",
      "time        int64\n",
      "date        object\n",
      "hour        object\n",
      "dtypes: int64(4), object(3)\n",
      "memory usage: 160.2+ MB\n"
     ]
    }
   ],
   "source": [
    "del data_user['date_']\n",
    "data_user.info()"
   ]
  },
  {
   "cell_type": "code",
   "execution_count": 10,
   "metadata": {},
   "outputs": [],
   "source": [
    "data_user['hour']=data_user['hour'].astype('int64')\n",
    "data_user['date']=pd.to_datetime(data_user['date'])"
   ]
  },
  {
   "cell_type": "code",
   "execution_count": 26,
   "metadata": {},
   "outputs": [
    {
     "data": {
      "text/html": [
       "<div>\n",
       "<style scoped>\n",
       "    .dataframe tbody tr th:only-of-type {\n",
       "        vertical-align: middle;\n",
       "    }\n",
       "\n",
       "    .dataframe tbody tr th {\n",
       "        vertical-align: top;\n",
       "    }\n",
       "\n",
       "    .dataframe thead th {\n",
       "        text-align: right;\n",
       "    }\n",
       "</style>\n",
       "<table border=\"1\" class=\"dataframe\">\n",
       "  <thead>\n",
       "    <tr style=\"text-align: right;\">\n",
       "      <th></th>\n",
       "      <th>user_id</th>\n",
       "      <th>item_id</th>\n",
       "      <th>category</th>\n",
       "      <th>behavior</th>\n",
       "      <th>time</th>\n",
       "      <th>date</th>\n",
       "      <th>hour</th>\n",
       "    </tr>\n",
       "  </thead>\n",
       "  <tbody>\n",
       "    <tr>\n",
       "      <td>0</td>\n",
       "      <td>1</td>\n",
       "      <td>2268318</td>\n",
       "      <td>2520377</td>\n",
       "      <td>pv</td>\n",
       "      <td>1511544070</td>\n",
       "      <td>2017-11-25</td>\n",
       "      <td>01</td>\n",
       "    </tr>\n",
       "    <tr>\n",
       "      <td>1</td>\n",
       "      <td>1</td>\n",
       "      <td>2333346</td>\n",
       "      <td>2520771</td>\n",
       "      <td>pv</td>\n",
       "      <td>1511561733</td>\n",
       "      <td>2017-11-25</td>\n",
       "      <td>06</td>\n",
       "    </tr>\n",
       "    <tr>\n",
       "      <td>2</td>\n",
       "      <td>1</td>\n",
       "      <td>2576651</td>\n",
       "      <td>149192</td>\n",
       "      <td>pv</td>\n",
       "      <td>1511572885</td>\n",
       "      <td>2017-11-25</td>\n",
       "      <td>09</td>\n",
       "    </tr>\n",
       "    <tr>\n",
       "      <td>3</td>\n",
       "      <td>1</td>\n",
       "      <td>3830808</td>\n",
       "      <td>4181361</td>\n",
       "      <td>pv</td>\n",
       "      <td>1511593493</td>\n",
       "      <td>2017-11-25</td>\n",
       "      <td>15</td>\n",
       "    </tr>\n",
       "    <tr>\n",
       "      <td>4</td>\n",
       "      <td>1</td>\n",
       "      <td>4365585</td>\n",
       "      <td>2520377</td>\n",
       "      <td>pv</td>\n",
       "      <td>1511596146</td>\n",
       "      <td>2017-11-25</td>\n",
       "      <td>15</td>\n",
       "    </tr>\n",
       "  </tbody>\n",
       "</table>\n",
       "</div>"
      ],
      "text/plain": [
       "   user_id  item_id  category behavior        time        date hour\n",
       "0        1  2268318   2520377       pv  1511544070  2017-11-25   01\n",
       "1        1  2333346   2520771       pv  1511561733  2017-11-25   06\n",
       "2        1  2576651    149192       pv  1511572885  2017-11-25   09\n",
       "3        1  3830808   4181361       pv  1511593493  2017-11-25   15\n",
       "4        1  4365585   2520377       pv  1511596146  2017-11-25   15"
      ]
     },
     "execution_count": 26,
     "metadata": {},
     "output_type": "execute_result"
    }
   ],
   "source": [
    "data_user.head()"
   ]
  },
  {
   "cell_type": "code",
   "execution_count": 27,
   "metadata": {},
   "outputs": [
    {
     "name": "stdout",
     "output_type": "stream",
     "text": [
      "<class 'pandas.core.frame.DataFrame'>\n",
      "RangeIndex: 3000000 entries, 0 to 2999999\n",
      "Data columns (total 7 columns):\n",
      "user_id     int64\n",
      "item_id     int64\n",
      "category    int64\n",
      "behavior    object\n",
      "time        int64\n",
      "date        object\n",
      "hour        object\n",
      "dtypes: int64(4), object(3)\n",
      "memory usage: 160.2+ MB\n"
     ]
    }
   ],
   "source": [
    "data_user.info()"
   ]
  },
  {
   "cell_type": "code",
   "execution_count": 28,
   "metadata": {},
   "outputs": [
    {
     "data": {
      "text/plain": [
       "array(['2017-11-25', '2017-11-26', '2017-11-27', '2017-11-28',\n",
       "       '2017-11-29', '2017-11-30', '2017-12-01', '2017-12-02',\n",
       "       '2017-12-03', '2017-09-11', '2017-11-24', '2017-11-20',\n",
       "       '2017-11-23', '2017-11-17', '2017-11-19', '2017-11-22',\n",
       "       '2017-11-14', '2017-11-21', '2017-11-16', '2017-11-18',\n",
       "       '2017-11-10', '2017-12-04', '2017-11-06', '2017-11-12',\n",
       "       '2017-11-13', '2018-08-28', '2017-11-11', '2017-09-16',\n",
       "       '2017-07-03', '2015-02-06', '2017-11-05', '2017-11-15',\n",
       "       '1970-01-01', '2017-12-06', '2017-11-03'], dtype=object)"
      ]
     },
     "execution_count": 28,
     "metadata": {},
     "output_type": "execute_result"
    }
   ],
   "source": [
    "data_user.date.unique()"
   ]
  },
  {
   "cell_type": "code",
   "execution_count": 29,
   "metadata": {},
   "outputs": [],
   "source": [
    "data_user=data_user[(data_user['date']>='2017-11-25')&(data_user['date']<='2017-12-03')]"
   ]
  },
  {
   "cell_type": "code",
   "execution_count": 30,
   "metadata": {},
   "outputs": [
    {
     "data": {
      "text/plain": [
       "array(['2017-11-25', '2017-11-26', '2017-11-27', '2017-11-28',\n",
       "       '2017-11-29', '2017-11-30', '2017-12-01', '2017-12-02',\n",
       "       '2017-12-03'], dtype=object)"
      ]
     },
     "execution_count": 30,
     "metadata": {},
     "output_type": "execute_result"
    }
   ],
   "source": [
    "data_user.date.unique()"
   ]
  },
  {
   "cell_type": "code",
   "execution_count": 31,
   "metadata": {},
   "outputs": [
    {
     "data": {
      "text/html": [
       "<div>\n",
       "<style scoped>\n",
       "    .dataframe tbody tr th:only-of-type {\n",
       "        vertical-align: middle;\n",
       "    }\n",
       "\n",
       "    .dataframe tbody tr th {\n",
       "        vertical-align: top;\n",
       "    }\n",
       "\n",
       "    .dataframe thead th {\n",
       "        text-align: right;\n",
       "    }\n",
       "</style>\n",
       "<table border=\"1\" class=\"dataframe\">\n",
       "  <thead>\n",
       "    <tr style=\"text-align: right;\">\n",
       "      <th></th>\n",
       "      <th>user_id</th>\n",
       "      <th>item_id</th>\n",
       "      <th>category</th>\n",
       "      <th>time</th>\n",
       "    </tr>\n",
       "  </thead>\n",
       "  <tbody>\n",
       "    <tr>\n",
       "      <td>count</td>\n",
       "      <td>2.998533e+06</td>\n",
       "      <td>2.998533e+06</td>\n",
       "      <td>2.998533e+06</td>\n",
       "      <td>2.998533e+06</td>\n",
       "    </tr>\n",
       "    <tr>\n",
       "      <td>mean</td>\n",
       "      <td>2.485566e+05</td>\n",
       "      <td>2.577736e+06</td>\n",
       "      <td>2.712079e+06</td>\n",
       "      <td>1.511963e+09</td>\n",
       "    </tr>\n",
       "    <tr>\n",
       "      <td>std</td>\n",
       "      <td>2.855421e+05</td>\n",
       "      <td>1.487670e+06</td>\n",
       "      <td>1.466066e+06</td>\n",
       "      <td>2.303208e+05</td>\n",
       "    </tr>\n",
       "    <tr>\n",
       "      <td>min</td>\n",
       "      <td>1.000000e+00</td>\n",
       "      <td>2.600000e+01</td>\n",
       "      <td>2.171000e+03</td>\n",
       "      <td>1.511539e+09</td>\n",
       "    </tr>\n",
       "    <tr>\n",
       "      <td>25%</td>\n",
       "      <td>1.239620e+05</td>\n",
       "      <td>1.293995e+06</td>\n",
       "      <td>1.349561e+06</td>\n",
       "      <td>1.511763e+09</td>\n",
       "    </tr>\n",
       "    <tr>\n",
       "      <td>50%</td>\n",
       "      <td>1.620650e+05</td>\n",
       "      <td>2.575122e+06</td>\n",
       "      <td>2.723483e+06</td>\n",
       "      <td>1.511966e+09</td>\n",
       "    </tr>\n",
       "    <tr>\n",
       "      <td>75%</td>\n",
       "      <td>1.989660e+05</td>\n",
       "      <td>3.859581e+06</td>\n",
       "      <td>4.145813e+06</td>\n",
       "      <td>1.512181e+09</td>\n",
       "    </tr>\n",
       "    <tr>\n",
       "      <td>max</td>\n",
       "      <td>1.018011e+06</td>\n",
       "      <td>5.163067e+06</td>\n",
       "      <td>5.161669e+06</td>\n",
       "      <td>1.512317e+09</td>\n",
       "    </tr>\n",
       "  </tbody>\n",
       "</table>\n",
       "</div>"
      ],
      "text/plain": [
       "            user_id       item_id      category          time\n",
       "count  2.998533e+06  2.998533e+06  2.998533e+06  2.998533e+06\n",
       "mean   2.485566e+05  2.577736e+06  2.712079e+06  1.511963e+09\n",
       "std    2.855421e+05  1.487670e+06  1.466066e+06  2.303208e+05\n",
       "min    1.000000e+00  2.600000e+01  2.171000e+03  1.511539e+09\n",
       "25%    1.239620e+05  1.293995e+06  1.349561e+06  1.511763e+09\n",
       "50%    1.620650e+05  2.575122e+06  2.723483e+06  1.511966e+09\n",
       "75%    1.989660e+05  3.859581e+06  4.145813e+06  1.512181e+09\n",
       "max    1.018011e+06  5.163067e+06  5.161669e+06  1.512317e+09"
      ]
     },
     "execution_count": 31,
     "metadata": {},
     "output_type": "execute_result"
    }
   ],
   "source": [
    "data_user.describe()"
   ]
  },
  {
   "cell_type": "code",
   "execution_count": 32,
   "metadata": {},
   "outputs": [
    {
     "data": {
      "text/plain": [
       "False    2998532\n",
       "True           1\n",
       "dtype: int64"
      ]
     },
     "execution_count": 32,
     "metadata": {},
     "output_type": "execute_result"
    }
   ],
   "source": [
    "data_user.duplicated().value_counts()"
   ]
  },
  {
   "cell_type": "code",
   "execution_count": 33,
   "metadata": {},
   "outputs": [],
   "source": [
    "data_user.drop_duplicates(inplace=True)"
   ]
  },
  {
   "cell_type": "code",
   "execution_count": 34,
   "metadata": {},
   "outputs": [
    {
     "data": {
      "text/plain": [
       "False    2998532\n",
       "dtype: int64"
      ]
     },
     "execution_count": 34,
     "metadata": {},
     "output_type": "execute_result"
    }
   ],
   "source": [
    "data_user.duplicated().value_counts()"
   ]
  },
  {
   "cell_type": "markdown",
   "metadata": {},
   "source": [
    "（1）pv和uv分析\n",
    "\n",
    "PV(访问量)：即Page View, 具体是指网站的是页面浏览量或者点击量，页面被刷新一次就计算一次。\n",
    "\n",
    "UV(独立访客)：即Unique Visitor,访问您网站的一台电脑客户端为一个访客。"
   ]
  },
  {
   "cell_type": "code",
   "execution_count": 341,
   "metadata": {},
   "outputs": [
    {
     "data": {
      "image/png": "[encoded data removed]",
      "text/plain": [
       "<Figure size 432x288 with 2 Axes>"
      ]
     },
     "metadata": {
      "needs_background": "light"
     },
     "output_type": "display_data"
    }
   ],
   "source": [
    "#pv_daily记录每天用户操作次数，uv_daily记录每天不同的上线用户数量\n",
    "pv_daily=data_user.groupby('date')['user_id'].count().reset_index().rename(columns={'user_id':'pv'})\n",
    "uv_daily=data_user.groupby('date')['user_id'].apply(lambda x:x.drop_duplicates().count()).reset_index().rename(columns={'user_id':'uv'})\n",
    "fig,ax=plt.subplots(2,1,sharex=True)\n",
    "pv_daily.plot(x='date',y='pv',ax=ax[0])\n",
    "uv_daily.plot(x='date',y='uv',ax=ax[1])\n",
    "ax[0].set_title('pv_daily')\n",
    "ax[1].set_title('uv_daily')\n",
    "plt.savefig(r'C:\\Users\\Lenovo\\Desktop\\image1.png',dpi=400,bbox_inches='tight')"
   ]
  },
  {
   "cell_type": "code",
   "execution_count": 327,
   "metadata": {},
   "outputs": [
    {
     "data": {
      "text/plain": [
       "Text(0.5, 1.0, 'uv_hour')"
      ]
     },
     "execution_count": 327,
     "metadata": {},
     "output_type": "execute_result"
    },
    {
     "data": {
      "image/png": "[encoded data removed]",
      "text/plain": [
       "<Figure size 576x396 with 2 Axes>"
      ]
     },
     "metadata": {},
     "output_type": "display_data"
    }
   ],
   "source": [
    "#pv_hour记录每小时用户操作次数，uv_hour记录每小时不同的上线用户数量\n",
    "pv_hour=data_user.groupby('hour')['user_id'].count().reset_index().rename(columns={'user_id':'pv'})\n",
    "uv_hour=data_user.groupby('hour')['user_id'].apply(lambda x:x.drop_duplicates().count()).reset_index().rename(columns={'user_id':'uv'})\n",
    "fig,axes=plt.subplots(2,1,sharex=True)\n",
    "pv_hour.plot(x='hour',y='pv',ax=axes[0])\n",
    "uv_hour.plot(x='hour',y='uv',ax=axes[1])\n",
    "axes[0].set_title('pv_hour')\n",
    "axes[1].set_title('uv_hour')\n"
   ]
  },
  {
   "cell_type": "code",
   "execution_count": 353,
   "metadata": {},
   "outputs": [
    {
     "data": {
      "text/plain": [
       "Text(0.5, 1.0, 'pv_different_behavior_type_except1')"
      ]
     },
     "execution_count": 353,
     "metadata": {},
     "output_type": "execute_result"
    },
    {
     "data": {
      "image/png": "[encoded data removed]",
      "text/plain": [
       "<Figure size 720x504 with 2 Axes>"
      ]
     },
     "metadata": {
      "needs_background": "light"
     },
     "output_type": "display_data"
    }
   ],
   "source": [
    "pv_detail=data_user.groupby(['behavior','hour'])['user_id'].count().reset_index().rename(columns={'user_id':'total_pv'})\n",
    "fig,axes=plt.subplots(2,1,figsize=(10,7),sharex=True)\n",
    "sns.pointplot(x='hour',y='total_pv',hue='behavior',data=pv_detail,ax=axes[0])\n",
    "sns.pointplot(x='hour',y='total_pv',hue='behavior',data=pv_detail[pv_detail.behavior!='pv'],ax=axes[1])\n",
    "axes[0].set_title('pv_different_behavior_type')\n",
    "axes[1].set_title('pv_different_behavior_type_except1')"
   ]
  },
  {
   "cell_type": "markdown",
   "metadata": {},
   "source": [
    "有图表显示：点击这一用户行为相比较于其他三类用户行为，pv访问量较高，同时四种用户行为的波动情况基本一致，因此晚上这一时间段不管哪一种用户行为，pv访问量都是最高的。从图2可以看出，加入购物车这一用户行为的pv总量高于收藏的总量，因此在后续漏斗流失分析中，用户类型3应该在2之前分析。"
   ]
  },
  {
   "cell_type": "code",
   "execution_count": 278,
   "metadata": {},
   "outputs": [
    {
     "data": {
      "text/plain": [
       "(-1, 50)"
      ]
     },
     "execution_count": 278,
     "metadata": {},
     "output_type": "execute_result"
    },
    {
     "data": {
      "image/png": "[encoded data removed]",
      "text/plain": [
       "<Figure size 576x360 with 1 Axes>"
      ]
     },
     "metadata": {},
     "output_type": "display_data"
    }
   ],
   "source": [
    "data_user_buy=data_user[data_user.behavior=='buy'].groupby('user_id')['behavior'].count()\n",
    "plt.figure(figsize=(8,5))\n",
    "sns.distplot(data_user_buy,kde=False,color='b')\n",
    "plt.title('daily_user_buy')\n",
    "plt.xticks(range(0,50,5))\n",
    "plt.xlim(-1,50)"
   ]
  },
  {
   "cell_type": "markdown",
   "metadata": {},
   "source": [
    "图表显示：淘宝用户消费次数普遍在10次以内，因此需要重点关注购买次数在10次以上的消费者用户群体。"
   ]
  },
  {
   "cell_type": "markdown",
   "metadata": {},
   "source": [
    "ARPPU（average revenue per paying user）是指从每位付费用户身上获得的收入，它反映的是每个付费用户的平均付费额度。\n",
    "\n",
    "ARPPU=总收入/活跃用户付费数量\n",
    "\n",
    "因为本数据集中没有消费金额，因此在计算过程中用消费次数代替消费金额\n",
    "\n",
    "人均消费次数=消费总次数/消费人数"
   ]
  },
  {
   "cell_type": "code",
   "execution_count": 46,
   "metadata": {},
   "outputs": [
    {
     "data": {
      "text/plain": [
       "Text(0.5, 1.0, 'daily_ARPPU')"
      ]
     },
     "execution_count": 46,
     "metadata": {},
     "output_type": "execute_result"
    },
    {
     "data": {
      "image/png": "[encoded data removed]",
      "text/plain": [
       "<Figure size 432x288 with 1 Axes>"
      ]
     },
     "metadata": {
      "needs_background": "light"
     },
     "output_type": "display_data"
    }
   ],
   "source": [
    "data_use_buy1=data_user[data_user.behavior=='buy'].groupby(['date','user_id'])['behavior'].count().reset_index().rename(columns={'behavior':'total'})\n",
    "data_use_buy1.groupby('date').apply(lambda x:x.total.sum()/x.total.count()).plot()\n",
    "plt.title('daily_ARPPU')"
   ]
  },
  {
   "cell_type": "markdown",
   "metadata": {},
   "source": [
    "ARPU(Average Revenue Per User) ：平均每用户收入，可通过 总收入/AU 计算得出。它可以衡量产品的盈利能力和发展活力。\n",
    "\n",
    "活跃用户数平均消费次数=消费总次数/活跃用户人数(每天有操作行为的为活跃)"
   ]
  },
  {
   "cell_type": "code",
   "execution_count": 48,
   "metadata": {},
   "outputs": [
    {
     "data": {
      "text/plain": [
       "Text(0.5, 1.0, 'daily_ARPU')"
      ]
     },
     "execution_count": 48,
     "metadata": {},
     "output_type": "execute_result"
    },
    {
     "data": {
      "image/png": "[encoded data removed]",
      "text/plain": [
       "<Figure size 720x432 with 1 Axes>"
      ]
     },
     "metadata": {
      "needs_background": "light"
     },
     "output_type": "display_data"
    }
   ],
   "source": [
    "data_user['operation']=1\n",
    "data_use_buy2=data_user.groupby(['date','user_id','behavior'])['operation'].count().reset_index().rename(columns={'operation':'total'})\n",
    "data_use_buy2.groupby('date').apply(lambda x:x[x.behavior=='buy'].total.sum()/len(x.user_id.unique())).plot(figsize=(10,6))\n",
    "plt.title('daily_ARPU')"
   ]
  },
  {
   "cell_type": "markdown",
   "metadata": {},
   "source": [
    "付费率=消费人数/活跃用户人数"
   ]
  },
  {
   "cell_type": "code",
   "execution_count": 50,
   "metadata": {
    "scrolled": true
   },
   "outputs": [
    {
     "data": {
      "text/plain": [
       "Text(0.5, 1.0, 'daily_afford_rate')"
      ]
     },
     "execution_count": 50,
     "metadata": {},
     "output_type": "execute_result"
    },
    {
     "data": {
      "image/png": "[encoded data removed]",
      "text/plain": [
       "<Figure size 720x432 with 1 Axes>"
      ]
     },
     "metadata": {
      "needs_background": "light"
     },
     "output_type": "display_data"
    }
   ],
   "source": [
    "data_use_buy2.groupby('date').apply(lambda x:x[x.behavior=='buy'].total.count()/len(x.user_id.unique())).plot(figsize=(10,6))\n",
    "plt.title('daily_afford_rate')"
   ]
  },
  {
   "cell_type": "code",
   "execution_count": 282,
   "metadata": {},
   "outputs": [
    {
     "data": {
      "text/plain": [
       "0.6820892453218178"
      ]
     },
     "execution_count": 282,
     "metadata": {},
     "output_type": "execute_result"
    }
   ],
   "source": [
    "len(data_user[data_user.behavior=='buy'].user_id.unique())/len(data_user.user_id.unique())"
   ]
  },
  {
   "cell_type": "code",
   "execution_count": 57,
   "metadata": {},
   "outputs": [
    {
     "name": "stdout",
     "output_type": "stream",
     "text": [
      "大多数用户消费：1次\n"
     ]
    },
    {
     "data": {
      "image/png": "[encoded data removed]",
      "text/plain": [
       "<Figure size 432x288 with 1 Axes>"
      ]
     },
     "metadata": {
      "needs_background": "light"
     },
     "output_type": "display_data"
    }
   ],
   "source": [
    "#同一时间段用户消费次数分布\n",
    "data_user_buy3=data_user[data_user.behavior=='buy'].groupby(['user_id','date','hour'])['operation'].sum().rename('buy_count')\n",
    "sns.distplot(data_user_buy3)\n",
    "print('大多数用户消费：{}次'.format(data_user_buy3.mode()[0]))"
   ]
  },
  {
   "cell_type": "markdown",
   "metadata": {},
   "source": [
    "复购情况，即两天以上有购买行为,一天多次购买算一次\n",
    "复购率=有复购行为的用户数/有购买行为的用户总数"
   ]
  },
  {
   "cell_type": "code",
   "execution_count": 59,
   "metadata": {},
   "outputs": [
    {
     "name": "stdout",
     "output_type": "stream",
     "text": [
      "复购率: 0.5496\n"
     ]
    }
   ],
   "source": [
    "date_rebuy=data_user[data_user.behavior=='buy'].groupby('user_id')['date'].apply(lambda x:len(x.unique())).rename('rebuy_count')\n",
    "print('复购率:',round(date_rebuy[date_rebuy>=2].count()/date_rebuy.count(),4))"
   ]
  },
  {
   "cell_type": "code",
   "execution_count": 60,
   "metadata": {},
   "outputs": [
    {
     "name": "stdout",
     "output_type": "stream",
     "text": [
      "多数用户复购次数：0次\n"
     ]
    },
    {
     "data": {
      "image/png": "[encoded data removed]",
      "text/plain": [
       "<Figure size 432x288 with 1 Axes>"
      ]
     },
     "metadata": {
      "needs_background": "light"
     },
     "output_type": "display_data"
    }
   ],
   "source": [
    "sns.distplot(date_rebuy-1)\n",
    "plt.title('rebuy_user')\n",
    "print('多数用户复购次数：{}次'.format((date_rebuy-1).mode()[0]))"
   ]
  },
  {
   "cell_type": "markdown",
   "metadata": {},
   "source": [
    "R-最近一次消费 (Recency)\n",
    "\n",
    "F-消费频率 (Frequency)\n",
    "\n",
    "M-消费金额 (Monetary)（数据中无消费金额，故此项不参与分析）"
   ]
  },
  {
   "cell_type": "code",
   "execution_count": 76,
   "metadata": {},
   "outputs": [],
   "source": [
    "from datetime import datetime\n",
    "#每位用户最近购买时间间隔\n",
    "data_user['date']=pd.to_datetime(data_user['date'],format='%Y-%m-%d')\n",
    "recent_buy_time=data_user[data_user.behavior=='buy'].groupby('user_id').date.apply(lambda x:data_user.date.max()-x.sort_values().iloc[-1]).reset_index().rename(columns={'date':'recent'})\n",
    "recent_buy_time.recent=recent_buy_time.recent.map(lambda x:x.days)"
   ]
  },
  {
   "cell_type": "code",
   "execution_count": 85,
   "metadata": {},
   "outputs": [],
   "source": [
    "#每个用户消费频率\n",
    "buy_freq=data_user[data_user.behavior=='buy'].groupby('user_id').date.count().reset_index().rename(columns={'date':'freq'})\n",
    "rfm=pd.merge(recent_buy_time,buy_freq,left_on='user_id',right_on='user_id',how='outer')"
   ]
  },
  {
   "cell_type": "code",
   "execution_count": 86,
   "metadata": {},
   "outputs": [
    {
     "data": {
      "text/html": [
       "<div>\n",
       "<style scoped>\n",
       "    .dataframe tbody tr th:only-of-type {\n",
       "        vertical-align: middle;\n",
       "    }\n",
       "\n",
       "    .dataframe tbody tr th {\n",
       "        vertical-align: top;\n",
       "    }\n",
       "\n",
       "    .dataframe thead th {\n",
       "        text-align: right;\n",
       "    }\n",
       "</style>\n",
       "<table border=\"1\" class=\"dataframe\">\n",
       "  <thead>\n",
       "    <tr style=\"text-align: right;\">\n",
       "      <th></th>\n",
       "      <th>user_id</th>\n",
       "      <th>recent</th>\n",
       "      <th>freq</th>\n",
       "    </tr>\n",
       "  </thead>\n",
       "  <tbody>\n",
       "    <tr>\n",
       "      <td>0</td>\n",
       "      <td>100</td>\n",
       "      <td>5</td>\n",
       "      <td>8</td>\n",
       "    </tr>\n",
       "    <tr>\n",
       "      <td>1</td>\n",
       "      <td>117</td>\n",
       "      <td>5</td>\n",
       "      <td>10</td>\n",
       "    </tr>\n",
       "    <tr>\n",
       "      <td>2</td>\n",
       "      <td>119</td>\n",
       "      <td>4</td>\n",
       "      <td>3</td>\n",
       "    </tr>\n",
       "    <tr>\n",
       "      <td>3</td>\n",
       "      <td>121</td>\n",
       "      <td>8</td>\n",
       "      <td>1</td>\n",
       "    </tr>\n",
       "    <tr>\n",
       "      <td>4</td>\n",
       "      <td>122</td>\n",
       "      <td>1</td>\n",
       "      <td>3</td>\n",
       "    </tr>\n",
       "  </tbody>\n",
       "</table>\n",
       "</div>"
      ],
      "text/plain": [
       "   user_id  recent  freq\n",
       "0      100       5     8\n",
       "1      117       5    10\n",
       "2      119       4     3\n",
       "3      121       8     1\n",
       "4      122       1     3"
      ]
     },
     "execution_count": 86,
     "metadata": {},
     "output_type": "execute_result"
    }
   ],
   "source": [
    "rfm.head()"
   ]
  },
  {
   "cell_type": "code",
   "execution_count": 147,
   "metadata": {},
   "outputs": [
    {
     "data": {
      "text/html": [
       "<div>\n",
       "<style scoped>\n",
       "    .dataframe tbody tr th:only-of-type {\n",
       "        vertical-align: middle;\n",
       "    }\n",
       "\n",
       "    .dataframe tbody tr th {\n",
       "        vertical-align: top;\n",
       "    }\n",
       "\n",
       "    .dataframe thead th {\n",
       "        text-align: right;\n",
       "    }\n",
       "</style>\n",
       "<table border=\"1\" class=\"dataframe\">\n",
       "  <thead>\n",
       "    <tr style=\"text-align: right;\">\n",
       "      <th></th>\n",
       "      <th>user_id</th>\n",
       "      <th>recent</th>\n",
       "      <th>freq</th>\n",
       "      <th>R</th>\n",
       "      <th>F</th>\n",
       "      <th>rfm</th>\n",
       "    </tr>\n",
       "  </thead>\n",
       "  <tbody>\n",
       "    <tr>\n",
       "      <td>0</td>\n",
       "      <td>100</td>\n",
       "      <td>5</td>\n",
       "      <td>8</td>\n",
       "      <td>0</td>\n",
       "      <td>1</td>\n",
       "      <td>01</td>\n",
       "    </tr>\n",
       "    <tr>\n",
       "      <td>1</td>\n",
       "      <td>117</td>\n",
       "      <td>5</td>\n",
       "      <td>10</td>\n",
       "      <td>0</td>\n",
       "      <td>1</td>\n",
       "      <td>01</td>\n",
       "    </tr>\n",
       "    <tr>\n",
       "      <td>2</td>\n",
       "      <td>119</td>\n",
       "      <td>4</td>\n",
       "      <td>3</td>\n",
       "      <td>0</td>\n",
       "      <td>0</td>\n",
       "      <td>00</td>\n",
       "    </tr>\n",
       "    <tr>\n",
       "      <td>3</td>\n",
       "      <td>121</td>\n",
       "      <td>8</td>\n",
       "      <td>1</td>\n",
       "      <td>0</td>\n",
       "      <td>0</td>\n",
       "      <td>00</td>\n",
       "    </tr>\n",
       "    <tr>\n",
       "      <td>4</td>\n",
       "      <td>122</td>\n",
       "      <td>1</td>\n",
       "      <td>3</td>\n",
       "      <td>1</td>\n",
       "      <td>0</td>\n",
       "      <td>10</td>\n",
       "    </tr>\n",
       "  </tbody>\n",
       "</table>\n",
       "</div>"
      ],
      "text/plain": [
       "   user_id  recent  freq  R  F rfm\n",
       "0      100       5     8  0  1  01\n",
       "1      117       5    10  0  1  01\n",
       "2      119       4     3  0  0  00\n",
       "3      121       8     1  0  0  00\n",
       "4      122       1     3  1  0  10"
      ]
     },
     "execution_count": 147,
     "metadata": {},
     "output_type": "execute_result"
    }
   ],
   "source": [
    "#将各维度分成两个程度,分数越高越好\n",
    "rfm['R']=rfm.recent.apply(lambda x: '1' if x<=rfm.recent.mean() else '0')\n",
    "rfm['F']=rfm.freq.apply(lambda x: '1' if x>=rfm.freq.mean() else '0')\n",
    "rfm['rfm']=rfm['R'].str.cat(rfm['F'])\n",
    "rfm.head()"
   ]
  },
  {
   "cell_type": "code",
   "execution_count": 148,
   "metadata": {
    "scrolled": true
   },
   "outputs": [
    {
     "data": {
      "text/html": [
       "<div>\n",
       "<style scoped>\n",
       "    .dataframe tbody tr th:only-of-type {\n",
       "        vertical-align: middle;\n",
       "    }\n",
       "\n",
       "    .dataframe tbody tr th {\n",
       "        vertical-align: top;\n",
       "    }\n",
       "\n",
       "    .dataframe thead th {\n",
       "        text-align: right;\n",
       "    }\n",
       "</style>\n",
       "<table border=\"1\" class=\"dataframe\">\n",
       "  <thead>\n",
       "    <tr style=\"text-align: right;\">\n",
       "      <th></th>\n",
       "      <th>user_id</th>\n",
       "      <th>recent</th>\n",
       "      <th>freq</th>\n",
       "      <th>R</th>\n",
       "      <th>F</th>\n",
       "      <th>rfm</th>\n",
       "    </tr>\n",
       "  </thead>\n",
       "  <tbody>\n",
       "    <tr>\n",
       "      <td>0</td>\n",
       "      <td>100</td>\n",
       "      <td>5</td>\n",
       "      <td>8</td>\n",
       "      <td>0</td>\n",
       "      <td>1</td>\n",
       "      <td>保持用户</td>\n",
       "    </tr>\n",
       "    <tr>\n",
       "      <td>1</td>\n",
       "      <td>117</td>\n",
       "      <td>5</td>\n",
       "      <td>10</td>\n",
       "      <td>0</td>\n",
       "      <td>1</td>\n",
       "      <td>保持用户</td>\n",
       "    </tr>\n",
       "    <tr>\n",
       "      <td>2</td>\n",
       "      <td>119</td>\n",
       "      <td>4</td>\n",
       "      <td>3</td>\n",
       "      <td>0</td>\n",
       "      <td>0</td>\n",
       "      <td>挽留客户</td>\n",
       "    </tr>\n",
       "    <tr>\n",
       "      <td>3</td>\n",
       "      <td>121</td>\n",
       "      <td>8</td>\n",
       "      <td>1</td>\n",
       "      <td>0</td>\n",
       "      <td>0</td>\n",
       "      <td>挽留客户</td>\n",
       "    </tr>\n",
       "    <tr>\n",
       "      <td>4</td>\n",
       "      <td>122</td>\n",
       "      <td>1</td>\n",
       "      <td>3</td>\n",
       "      <td>1</td>\n",
       "      <td>0</td>\n",
       "      <td>发展客户</td>\n",
       "    </tr>\n",
       "  </tbody>\n",
       "</table>\n",
       "</div>"
      ],
      "text/plain": [
       "   user_id  recent  freq  R  F   rfm\n",
       "0      100       5     8  0  1  保持用户\n",
       "1      117       5    10  0  1  保持用户\n",
       "2      119       4     3  0  0  挽留客户\n",
       "3      121       8     1  0  0  挽留客户\n",
       "4      122       1     3  1  0  发展客户"
      ]
     },
     "execution_count": 148,
     "metadata": {},
     "output_type": "execute_result"
    }
   ],
   "source": [
    "rfm.rfm.replace({'11':'价值客户','10':'发展客户','01':'保持用户','00':'挽留客户'},inplace=True)\n",
    "rfm.head()"
   ]
  },
  {
   "cell_type": "code",
   "execution_count": 358,
   "metadata": {},
   "outputs": [
    {
     "data": {
      "text/plain": [
       "Text(0.5, 1.0, '用户价值分类统计')"
      ]
     },
     "execution_count": 358,
     "metadata": {},
     "output_type": "execute_result"
    },
    {
     "data": {
      "image/png": "[encoded data removed]",
      "text/plain": [
       "<Figure size 576x576 with 1 Axes>"
      ]
     },
     "metadata": {},
     "output_type": "display_data"
    }
   ],
   "source": [
    "rfm_rfm=rfm.groupby('rfm')['user_id'].count().reset_index().rename(columns={'user_id':'counts'})\n",
    "plt.figure(figsize=(8,8))\n",
    "plt.pie(data=rfm_rfm,x=rfm_rfm.counts,labels=rfm_rfm.rfm,autopct='%.2f%%',pctdistance=0.8,labeldistance=0.6)\n",
    "plt.title('用户价值分类统计')"
   ]
  },
  {
   "cell_type": "markdown",
   "metadata": {},
   "source": [
    "不同商品种类的用户行为分析"
   ]
  },
  {
   "cell_type": "code",
   "execution_count": 363,
   "metadata": {},
   "outputs": [
    {
     "name": "stderr",
     "output_type": "stream",
     "text": [
      "C:\\Users\\Lenovo\\anaconda\\lib\\site-packages\\pandas\\core\\indexing.py:205: SettingWithCopyWarning: \n",
      "A value is trying to be set on a copy of a slice from a DataFrame\n",
      "\n",
      "See the caveats in the documentation: http://pandas.pydata.org/pandas-docs/stable/user_guide/indexing.html#returning-a-view-versus-a-copy\n",
      "  self._setitem_with_indexer(indexer, value)\n"
     ]
    },
    {
     "data": {
      "text/plain": [
       "<matplotlib.axes._subplots.AxesSubplot at 0x1e8efdb7688>"
      ]
     },
     "execution_count": 363,
     "metadata": {},
     "output_type": "execute_result"
    },
    {
     "data": {
      "image/png": "[encoded data removed]",
      "text/plain": [
       "<Figure size 432x288 with 1 Axes>"
      ]
     },
     "metadata": {},
     "output_type": "display_data"
    }
   ],
   "source": [
    "#购买次数分析\n",
    "data_item=data_user[data_user.behavior=='buy'].groupby('item_id').behavior.count().reset_index().rename(columns={'behavior':'buy_counts'})\n",
    "data_item=data_item.groupby('buy_counts').count().reset_index().rename(columns={'item_id':'item_count'})\n",
    "data_item=data_item.sort_values('item_count',ascending=False)\n",
    "data_item_oper=data_item.iloc[:9,:]\n",
    "data_item_oper.loc[9]=['>=10',data_item.item_count.sum()-data_item_oper.item_count.sum()]\n",
    "plt.style.use('ggplot')\n",
    "sns.barplot(x=data_item_oper.buy_counts,y=data_item_oper.item_count,color='orangered')"
   ]
  },
  {
   "cell_type": "markdown",
   "metadata": {},
   "source": [
    "本次分析的商品种类有804825种，只购买一次的产品占82.65%，购买两次的产品占11.52%，没有出现购买用户数量非常集中的商品\n",
    "\n",
    "说明商品售卖主要依靠长尾商品的累积效应，而非爆款商品的带动。\n",
    "\n",
    "从另一角度看，说明淘宝上商品数量足够多，以致使用户可以有更多的选择，而不用局限于单一爆款"
   ]
  },
  {
   "cell_type": "code",
   "execution_count": 289,
   "metadata": {
    "scrolled": true
   },
   "outputs": [
    {
     "data": {
      "text/html": [
       "<div>\n",
       "<style scoped>\n",
       "    .dataframe tbody tr th:only-of-type {\n",
       "        vertical-align: middle;\n",
       "    }\n",
       "\n",
       "    .dataframe tbody tr th {\n",
       "        vertical-align: top;\n",
       "    }\n",
       "\n",
       "    .dataframe thead th {\n",
       "        text-align: right;\n",
       "    }\n",
       "</style>\n",
       "<table border=\"1\" class=\"dataframe\">\n",
       "  <thead>\n",
       "    <tr style=\"text-align: right;\">\n",
       "      <th></th>\n",
       "      <th>item_id</th>\n",
       "      <th>buy_count</th>\n",
       "    </tr>\n",
       "  </thead>\n",
       "  <tbody>\n",
       "    <tr>\n",
       "      <td>27812</td>\n",
       "      <td>3122135</td>\n",
       "      <td>45</td>\n",
       "    </tr>\n",
       "    <tr>\n",
       "      <td>27000</td>\n",
       "      <td>3031354</td>\n",
       "      <td>22</td>\n",
       "    </tr>\n",
       "    <tr>\n",
       "      <td>26395</td>\n",
       "      <td>2964774</td>\n",
       "      <td>20</td>\n",
       "    </tr>\n",
       "    <tr>\n",
       "      <td>2326</td>\n",
       "      <td>257772</td>\n",
       "      <td>20</td>\n",
       "    </tr>\n",
       "    <tr>\n",
       "      <td>9158</td>\n",
       "      <td>1034594</td>\n",
       "      <td>19</td>\n",
       "    </tr>\n",
       "    <tr>\n",
       "      <td>16903</td>\n",
       "      <td>1910706</td>\n",
       "      <td>19</td>\n",
       "    </tr>\n",
       "    <tr>\n",
       "      <td>35412</td>\n",
       "      <td>3964583</td>\n",
       "      <td>19</td>\n",
       "    </tr>\n",
       "    <tr>\n",
       "      <td>28418</td>\n",
       "      <td>3189426</td>\n",
       "      <td>18</td>\n",
       "    </tr>\n",
       "    <tr>\n",
       "      <td>6352</td>\n",
       "      <td>705557</td>\n",
       "      <td>17</td>\n",
       "    </tr>\n",
       "    <tr>\n",
       "      <td>28858</td>\n",
       "      <td>3237415</td>\n",
       "      <td>17</td>\n",
       "    </tr>\n",
       "    <tr>\n",
       "      <td>30792</td>\n",
       "      <td>3452114</td>\n",
       "      <td>16</td>\n",
       "    </tr>\n",
       "    <tr>\n",
       "      <td>9745</td>\n",
       "      <td>1095113</td>\n",
       "      <td>16</td>\n",
       "    </tr>\n",
       "    <tr>\n",
       "      <td>9223</td>\n",
       "      <td>1042152</td>\n",
       "      <td>16</td>\n",
       "    </tr>\n",
       "    <tr>\n",
       "      <td>22758</td>\n",
       "      <td>2560262</td>\n",
       "      <td>16</td>\n",
       "    </tr>\n",
       "    <tr>\n",
       "      <td>14912</td>\n",
       "      <td>1684440</td>\n",
       "      <td>16</td>\n",
       "    </tr>\n",
       "    <tr>\n",
       "      <td>14150</td>\n",
       "      <td>1595279</td>\n",
       "      <td>15</td>\n",
       "    </tr>\n",
       "    <tr>\n",
       "      <td>10414</td>\n",
       "      <td>1168232</td>\n",
       "      <td>15</td>\n",
       "    </tr>\n",
       "    <tr>\n",
       "      <td>20098</td>\n",
       "      <td>2267309</td>\n",
       "      <td>15</td>\n",
       "    </tr>\n",
       "    <tr>\n",
       "      <td>1908</td>\n",
       "      <td>213747</td>\n",
       "      <td>15</td>\n",
       "    </tr>\n",
       "    <tr>\n",
       "      <td>16054</td>\n",
       "      <td>1813380</td>\n",
       "      <td>15</td>\n",
       "    </tr>\n",
       "  </tbody>\n",
       "</table>\n",
       "</div>"
      ],
      "text/plain": [
       "       item_id  buy_count\n",
       "27812  3122135         45\n",
       "27000  3031354         22\n",
       "26395  2964774         20\n",
       "2326    257772         20\n",
       "9158   1034594         19\n",
       "16903  1910706         19\n",
       "35412  3964583         19\n",
       "28418  3189426         18\n",
       "6352    705557         17\n",
       "28858  3237415         17\n",
       "30792  3452114         16\n",
       "9745   1095113         16\n",
       "9223   1042152         16\n",
       "22758  2560262         16\n",
       "14912  1684440         16\n",
       "14150  1595279         15\n",
       "10414  1168232         15\n",
       "20098  2267309         15\n",
       "1908    213747         15\n",
       "16054  1813380         15"
      ]
     },
     "execution_count": 289,
     "metadata": {},
     "output_type": "execute_result"
    }
   ],
   "source": [
    "#列出销量前20的商品\n",
    "a=data_user[data_user.behavior=='buy'].groupby('item_id').user_id.count().reset_index().rename(columns={'user_id':'buy_count'})\n",
    "a.sort_values('buy_count',ascending=False).iloc[:20,:]"
   ]
  },
  {
   "cell_type": "code",
   "execution_count": 291,
   "metadata": {
    "scrolled": true
   },
   "outputs": [
    {
     "data": {
      "text/html": [
       "<div>\n",
       "<style scoped>\n",
       "    .dataframe tbody tr th:only-of-type {\n",
       "        vertical-align: middle;\n",
       "    }\n",
       "\n",
       "    .dataframe tbody tr th {\n",
       "        vertical-align: top;\n",
       "    }\n",
       "\n",
       "    .dataframe thead th {\n",
       "        text-align: right;\n",
       "    }\n",
       "</style>\n",
       "<table border=\"1\" class=\"dataframe\">\n",
       "  <thead>\n",
       "    <tr style=\"text-align: right;\">\n",
       "      <th></th>\n",
       "      <th>item_id</th>\n",
       "      <th>pv_count</th>\n",
       "    </tr>\n",
       "  </thead>\n",
       "  <tbody>\n",
       "    <tr>\n",
       "      <td>121411</td>\n",
       "      <td>812879</td>\n",
       "      <td>899</td>\n",
       "    </tr>\n",
       "    <tr>\n",
       "      <td>576248</td>\n",
       "      <td>3845720</td>\n",
       "      <td>770</td>\n",
       "    </tr>\n",
       "    <tr>\n",
       "      <td>304400</td>\n",
       "      <td>2032668</td>\n",
       "      <td>629</td>\n",
       "    </tr>\n",
       "    <tr>\n",
       "      <td>349396</td>\n",
       "      <td>2331370</td>\n",
       "      <td>621</td>\n",
       "    </tr>\n",
       "    <tr>\n",
       "      <td>21020</td>\n",
       "      <td>138964</td>\n",
       "      <td>586</td>\n",
       "    </tr>\n",
       "    <tr>\n",
       "      <td>454487</td>\n",
       "      <td>3031354</td>\n",
       "      <td>570</td>\n",
       "    </tr>\n",
       "    <tr>\n",
       "      <td>9126</td>\n",
       "      <td>59883</td>\n",
       "      <td>537</td>\n",
       "    </tr>\n",
       "    <tr>\n",
       "      <td>350380</td>\n",
       "      <td>2338453</td>\n",
       "      <td>532</td>\n",
       "    </tr>\n",
       "    <tr>\n",
       "      <td>229699</td>\n",
       "      <td>1535294</td>\n",
       "      <td>527</td>\n",
       "    </tr>\n",
       "    <tr>\n",
       "      <td>631012</td>\n",
       "      <td>4211339</td>\n",
       "      <td>527</td>\n",
       "    </tr>\n",
       "    <tr>\n",
       "      <td>505115</td>\n",
       "      <td>3371523</td>\n",
       "      <td>524</td>\n",
       "    </tr>\n",
       "    <tr>\n",
       "      <td>238308</td>\n",
       "      <td>1591862</td>\n",
       "      <td>491</td>\n",
       "    </tr>\n",
       "    <tr>\n",
       "      <td>354778</td>\n",
       "      <td>2367945</td>\n",
       "      <td>489</td>\n",
       "    </tr>\n",
       "    <tr>\n",
       "      <td>696107</td>\n",
       "      <td>4649427</td>\n",
       "      <td>482</td>\n",
       "    </tr>\n",
       "    <tr>\n",
       "      <td>367731</td>\n",
       "      <td>2453685</td>\n",
       "      <td>471</td>\n",
       "    </tr>\n",
       "    <tr>\n",
       "      <td>147289</td>\n",
       "      <td>987143</td>\n",
       "      <td>466</td>\n",
       "    </tr>\n",
       "    <tr>\n",
       "      <td>422443</td>\n",
       "      <td>2818406</td>\n",
       "      <td>458</td>\n",
       "    </tr>\n",
       "    <tr>\n",
       "      <td>587681</td>\n",
       "      <td>3920968</td>\n",
       "      <td>445</td>\n",
       "    </tr>\n",
       "    <tr>\n",
       "      <td>237001</td>\n",
       "      <td>1583704</td>\n",
       "      <td>441</td>\n",
       "    </tr>\n",
       "    <tr>\n",
       "      <td>341474</td>\n",
       "      <td>2279428</td>\n",
       "      <td>432</td>\n",
       "    </tr>\n",
       "    <tr>\n",
       "      <td>527294</td>\n",
       "      <td>3520504</td>\n",
       "      <td>423</td>\n",
       "    </tr>\n",
       "    <tr>\n",
       "      <td>665422</td>\n",
       "      <td>4443059</td>\n",
       "      <td>423</td>\n",
       "    </tr>\n",
       "    <tr>\n",
       "      <td>555301</td>\n",
       "      <td>3708121</td>\n",
       "      <td>406</td>\n",
       "    </tr>\n",
       "    <tr>\n",
       "      <td>95711</td>\n",
       "      <td>640975</td>\n",
       "      <td>402</td>\n",
       "    </tr>\n",
       "    <tr>\n",
       "      <td>533811</td>\n",
       "      <td>3563468</td>\n",
       "      <td>393</td>\n",
       "    </tr>\n",
       "    <tr>\n",
       "      <td>418219</td>\n",
       "      <td>2790543</td>\n",
       "      <td>392</td>\n",
       "    </tr>\n",
       "    <tr>\n",
       "      <td>613222</td>\n",
       "      <td>4091349</td>\n",
       "      <td>392</td>\n",
       "    </tr>\n",
       "    <tr>\n",
       "      <td>354264</td>\n",
       "      <td>2364679</td>\n",
       "      <td>391</td>\n",
       "    </tr>\n",
       "    <tr>\n",
       "      <td>473741</td>\n",
       "      <td>3159978</td>\n",
       "      <td>357</td>\n",
       "    </tr>\n",
       "    <tr>\n",
       "      <td>105419</td>\n",
       "      <td>705557</td>\n",
       "      <td>345</td>\n",
       "    </tr>\n",
       "  </tbody>\n",
       "</table>\n",
       "</div>"
      ],
      "text/plain": [
       "        item_id  pv_count\n",
       "121411   812879       899\n",
       "576248  3845720       770\n",
       "304400  2032668       629\n",
       "349396  2331370       621\n",
       "21020    138964       586\n",
       "454487  3031354       570\n",
       "9126      59883       537\n",
       "350380  2338453       532\n",
       "229699  1535294       527\n",
       "631012  4211339       527\n",
       "505115  3371523       524\n",
       "238308  1591862       491\n",
       "354778  2367945       489\n",
       "696107  4649427       482\n",
       "367731  2453685       471\n",
       "147289   987143       466\n",
       "422443  2818406       458\n",
       "587681  3920968       445\n",
       "237001  1583704       441\n",
       "341474  2279428       432\n",
       "527294  3520504       423\n",
       "665422  4443059       423\n",
       "555301  3708121       406\n",
       "95711    640975       402\n",
       "533811  3563468       393\n",
       "418219  2790543       392\n",
       "613222  4091349       392\n",
       "354264  2364679       391\n",
       "473741  3159978       357\n",
       "105419   705557       345"
      ]
     },
     "execution_count": 291,
     "metadata": {},
     "output_type": "execute_result"
    }
   ],
   "source": [
    "b=data_user[data_user.behavior=='pv'].groupby('item_id').user_id.count().reset_index().rename(columns={'user_id':'pv_count'})\n",
    "b.sort_values('pv_count',ascending=False).iloc[:30,:]"
   ]
  },
  {
   "cell_type": "code",
   "execution_count": 295,
   "metadata": {
    "scrolled": true
   },
   "outputs": [
    {
     "data": {
      "text/html": [
       "<div>\n",
       "<style scoped>\n",
       "    .dataframe tbody tr th:only-of-type {\n",
       "        vertical-align: middle;\n",
       "    }\n",
       "\n",
       "    .dataframe tbody tr th {\n",
       "        vertical-align: top;\n",
       "    }\n",
       "\n",
       "    .dataframe thead th {\n",
       "        text-align: right;\n",
       "    }\n",
       "</style>\n",
       "<table border=\"1\" class=\"dataframe\">\n",
       "  <thead>\n",
       "    <tr style=\"text-align: right;\">\n",
       "      <th></th>\n",
       "      <th>item_id</th>\n",
       "      <th>buy_count</th>\n",
       "      <th>pv_count</th>\n",
       "    </tr>\n",
       "  </thead>\n",
       "  <tbody>\n",
       "    <tr>\n",
       "      <td>25000</td>\n",
       "      <td>3122135</td>\n",
       "      <td>45</td>\n",
       "      <td>58</td>\n",
       "    </tr>\n",
       "    <tr>\n",
       "      <td>24279</td>\n",
       "      <td>3031354</td>\n",
       "      <td>22</td>\n",
       "      <td>570</td>\n",
       "    </tr>\n",
       "    <tr>\n",
       "      <td>2096</td>\n",
       "      <td>257772</td>\n",
       "      <td>20</td>\n",
       "      <td>99</td>\n",
       "    </tr>\n",
       "    <tr>\n",
       "      <td>23739</td>\n",
       "      <td>2964774</td>\n",
       "      <td>20</td>\n",
       "      <td>214</td>\n",
       "    </tr>\n",
       "    <tr>\n",
       "      <td>15207</td>\n",
       "      <td>1910706</td>\n",
       "      <td>19</td>\n",
       "      <td>39</td>\n",
       "    </tr>\n",
       "    <tr>\n",
       "      <td>...</td>\n",
       "      <td>...</td>\n",
       "      <td>...</td>\n",
       "      <td>...</td>\n",
       "    </tr>\n",
       "    <tr>\n",
       "      <td>15198</td>\n",
       "      <td>1909355</td>\n",
       "      <td>1</td>\n",
       "      <td>57</td>\n",
       "    </tr>\n",
       "    <tr>\n",
       "      <td>15199</td>\n",
       "      <td>1909589</td>\n",
       "      <td>1</td>\n",
       "      <td>2</td>\n",
       "    </tr>\n",
       "    <tr>\n",
       "      <td>15200</td>\n",
       "      <td>1909690</td>\n",
       "      <td>1</td>\n",
       "      <td>14</td>\n",
       "    </tr>\n",
       "    <tr>\n",
       "      <td>15201</td>\n",
       "      <td>1909773</td>\n",
       "      <td>1</td>\n",
       "      <td>1</td>\n",
       "    </tr>\n",
       "    <tr>\n",
       "      <td>41389</td>\n",
       "      <td>5163006</td>\n",
       "      <td>1</td>\n",
       "      <td>37</td>\n",
       "    </tr>\n",
       "  </tbody>\n",
       "</table>\n",
       "<p>41390 rows × 3 columns</p>\n",
       "</div>"
      ],
      "text/plain": [
       "       item_id  buy_count  pv_count\n",
       "25000  3122135         45        58\n",
       "24279  3031354         22       570\n",
       "2096    257772         20        99\n",
       "23739  2964774         20       214\n",
       "15207  1910706         19        39\n",
       "...        ...        ...       ...\n",
       "15198  1909355          1        57\n",
       "15199  1909589          1         2\n",
       "15200  1909690          1        14\n",
       "15201  1909773          1         1\n",
       "41389  5163006          1        37\n",
       "\n",
       "[41390 rows x 3 columns]"
      ]
     },
     "execution_count": 295,
     "metadata": {},
     "output_type": "execute_result"
    }
   ],
   "source": [
    "c=pd.merge(a,b,how='inner',left_on='item_id',right_on='item_id')\n",
    "c.sort_values('buy_count',ascending=False)"
   ]
  },
  {
   "cell_type": "code",
   "execution_count": 318,
   "metadata": {},
   "outputs": [
    {
     "data": {
      "text/plain": [
       "899"
      ]
     },
     "execution_count": 318,
     "metadata": {},
     "output_type": "execute_result"
    }
   ],
   "source": [
    "c.pv_count.max()"
   ]
  },
  {
   "cell_type": "code",
   "execution_count": 316,
   "metadata": {},
   "outputs": [
    {
     "data": {
      "text/html": [
       "<div>\n",
       "<style scoped>\n",
       "    .dataframe tbody tr th:only-of-type {\n",
       "        vertical-align: middle;\n",
       "    }\n",
       "\n",
       "    .dataframe tbody tr th {\n",
       "        vertical-align: top;\n",
       "    }\n",
       "\n",
       "    .dataframe thead th {\n",
       "        text-align: right;\n",
       "    }\n",
       "</style>\n",
       "<table border=\"1\" class=\"dataframe\">\n",
       "  <thead>\n",
       "    <tr style=\"text-align: right;\">\n",
       "      <th></th>\n",
       "      <th>item_id</th>\n",
       "      <th>buy_count</th>\n",
       "      <th>pv_count</th>\n",
       "    </tr>\n",
       "  </thead>\n",
       "  <tbody>\n",
       "    <tr>\n",
       "      <td>6585</td>\n",
       "      <td>812879</td>\n",
       "      <td>4</td>\n",
       "      <td>899</td>\n",
       "    </tr>\n",
       "    <tr>\n",
       "      <td>30835</td>\n",
       "      <td>3845720</td>\n",
       "      <td>3</td>\n",
       "      <td>770</td>\n",
       "    </tr>\n",
       "    <tr>\n",
       "      <td>16183</td>\n",
       "      <td>2032668</td>\n",
       "      <td>4</td>\n",
       "      <td>629</td>\n",
       "    </tr>\n",
       "    <tr>\n",
       "      <td>18613</td>\n",
       "      <td>2331370</td>\n",
       "      <td>4</td>\n",
       "      <td>621</td>\n",
       "    </tr>\n",
       "    <tr>\n",
       "      <td>1137</td>\n",
       "      <td>138964</td>\n",
       "      <td>3</td>\n",
       "      <td>586</td>\n",
       "    </tr>\n",
       "    <tr>\n",
       "      <td>...</td>\n",
       "      <td>...</td>\n",
       "      <td>...</td>\n",
       "      <td>...</td>\n",
       "    </tr>\n",
       "    <tr>\n",
       "      <td>37157</td>\n",
       "      <td>4634635</td>\n",
       "      <td>4</td>\n",
       "      <td>59</td>\n",
       "    </tr>\n",
       "    <tr>\n",
       "      <td>40209</td>\n",
       "      <td>5014352</td>\n",
       "      <td>4</td>\n",
       "      <td>59</td>\n",
       "    </tr>\n",
       "    <tr>\n",
       "      <td>40447</td>\n",
       "      <td>5042305</td>\n",
       "      <td>1</td>\n",
       "      <td>59</td>\n",
       "    </tr>\n",
       "    <tr>\n",
       "      <td>3244</td>\n",
       "      <td>396715</td>\n",
       "      <td>2</td>\n",
       "      <td>59</td>\n",
       "    </tr>\n",
       "    <tr>\n",
       "      <td>26015</td>\n",
       "      <td>3248773</td>\n",
       "      <td>1</td>\n",
       "      <td>58</td>\n",
       "    </tr>\n",
       "  </tbody>\n",
       "</table>\n",
       "<p>1383 rows × 3 columns</p>\n",
       "</div>"
      ],
      "text/plain": [
       "       item_id  buy_count  pv_count\n",
       "6585    812879          4       899\n",
       "30835  3845720          3       770\n",
       "16183  2032668          4       629\n",
       "18613  2331370          4       621\n",
       "1137    138964          3       586\n",
       "...        ...        ...       ...\n",
       "37157  4634635          4        59\n",
       "40209  5014352          4        59\n",
       "40447  5042305          1        59\n",
       "3244    396715          2        59\n",
       "26015  3248773          1        58\n",
       "\n",
       "[1383 rows x 3 columns]"
      ]
     },
     "execution_count": 316,
     "metadata": {},
     "output_type": "execute_result"
    }
   ],
   "source": [
    "d=pd.merge(a,b,how='inner',left_on='item_id',right_on='item_id')\n",
    "d.sort_values('pv_count',ascending=False).iloc[:1383,:]"
   ]
  },
  {
   "cell_type": "code",
   "execution_count": 197,
   "metadata": {
    "scrolled": true
   },
   "outputs": [
    {
     "data": {
      "text/html": [
       "<div>\n",
       "<style scoped>\n",
       "    .dataframe tbody tr th:only-of-type {\n",
       "        vertical-align: middle;\n",
       "    }\n",
       "\n",
       "    .dataframe tbody tr th {\n",
       "        vertical-align: top;\n",
       "    }\n",
       "\n",
       "    .dataframe thead th {\n",
       "        text-align: right;\n",
       "    }\n",
       "</style>\n",
       "<table border=\"1\" class=\"dataframe\">\n",
       "  <thead>\n",
       "    <tr style=\"text-align: right;\">\n",
       "      <th></th>\n",
       "      <th>item_id</th>\n",
       "      <th>pv</th>\n",
       "    </tr>\n",
       "  </thead>\n",
       "  <tbody>\n",
       "    <tr>\n",
       "      <td>0</td>\n",
       "      <td>812879</td>\n",
       "      <td>899</td>\n",
       "    </tr>\n",
       "    <tr>\n",
       "      <td>1</td>\n",
       "      <td>3845720</td>\n",
       "      <td>770</td>\n",
       "    </tr>\n",
       "    <tr>\n",
       "      <td>2</td>\n",
       "      <td>2032668</td>\n",
       "      <td>629</td>\n",
       "    </tr>\n",
       "    <tr>\n",
       "      <td>3</td>\n",
       "      <td>2331370</td>\n",
       "      <td>621</td>\n",
       "    </tr>\n",
       "    <tr>\n",
       "      <td>4</td>\n",
       "      <td>138964</td>\n",
       "      <td>586</td>\n",
       "    </tr>\n",
       "  </tbody>\n",
       "</table>\n",
       "</div>"
      ],
      "text/plain": [
       "   item_id   pv\n",
       "0   812879  899\n",
       "1  3845720  770\n",
       "2  2032668  629\n",
       "3  2331370  621\n",
       "4   138964  586"
      ]
     },
     "execution_count": 197,
     "metadata": {},
     "output_type": "execute_result"
    }
   ],
   "source": [
    "#转化率分析\n",
    "data_pv=data_user[data_user['behavior']=='pv'].groupby('item_id').behavior.count().reset_index().rename(columns={'behavior':'pv'})\n",
    "data_pv=data_pv.sort_values('pv',ascending=False).reset_index().drop('index',axis=1)\n",
    "data_pv.head()"
   ]
  },
  {
   "cell_type": "code",
   "execution_count": 407,
   "metadata": {},
   "outputs": [
    {
     "data": {
      "text/html": [
       "<div>\n",
       "<style scoped>\n",
       "    .dataframe tbody tr th:only-of-type {\n",
       "        vertical-align: middle;\n",
       "    }\n",
       "\n",
       "    .dataframe tbody tr th {\n",
       "        vertical-align: top;\n",
       "    }\n",
       "\n",
       "    .dataframe thead th {\n",
       "        text-align: right;\n",
       "    }\n",
       "</style>\n",
       "<table border=\"1\" class=\"dataframe\">\n",
       "  <thead>\n",
       "    <tr style=\"text-align: right;\">\n",
       "      <th></th>\n",
       "      <th>item_id</th>\n",
       "      <th>buy</th>\n",
       "    </tr>\n",
       "  </thead>\n",
       "  <tbody>\n",
       "    <tr>\n",
       "      <td>0</td>\n",
       "      <td>3122135</td>\n",
       "      <td>45</td>\n",
       "    </tr>\n",
       "    <tr>\n",
       "      <td>1</td>\n",
       "      <td>3031354</td>\n",
       "      <td>22</td>\n",
       "    </tr>\n",
       "    <tr>\n",
       "      <td>2</td>\n",
       "      <td>2964774</td>\n",
       "      <td>20</td>\n",
       "    </tr>\n",
       "    <tr>\n",
       "      <td>3</td>\n",
       "      <td>257772</td>\n",
       "      <td>20</td>\n",
       "    </tr>\n",
       "    <tr>\n",
       "      <td>4</td>\n",
       "      <td>1034594</td>\n",
       "      <td>19</td>\n",
       "    </tr>\n",
       "  </tbody>\n",
       "</table>\n",
       "</div>"
      ],
      "text/plain": [
       "   item_id  buy\n",
       "0  3122135   45\n",
       "1  3031354   22\n",
       "2  2964774   20\n",
       "3   257772   20\n",
       "4  1034594   19"
      ]
     },
     "execution_count": 407,
     "metadata": {},
     "output_type": "execute_result"
    }
   ],
   "source": [
    "data_buy=data_user[data_user['behavior']=='buy'].groupby('item_id').behavior.count().reset_index().rename(columns={'behavior':'buy'})\n",
    "data_buy=data_buy.sort_values('buy',ascending=False).reset_index().drop('index',axis=1)\n",
    "data_buy.head()"
   ]
  },
  {
   "cell_type": "code",
   "execution_count": 432,
   "metadata": {},
   "outputs": [
    {
     "data": {
      "text/html": [
       "<div>\n",
       "<style scoped>\n",
       "    .dataframe tbody tr th:only-of-type {\n",
       "        vertical-align: middle;\n",
       "    }\n",
       "\n",
       "    .dataframe tbody tr th {\n",
       "        vertical-align: top;\n",
       "    }\n",
       "\n",
       "    .dataframe thead th {\n",
       "        text-align: right;\n",
       "    }\n",
       "</style>\n",
       "<table border=\"1\" class=\"dataframe\">\n",
       "  <thead>\n",
       "    <tr style=\"text-align: right;\">\n",
       "      <th></th>\n",
       "      <th>item_id</th>\n",
       "      <th>pv</th>\n",
       "      <th>buy</th>\n",
       "    </tr>\n",
       "  </thead>\n",
       "  <tbody>\n",
       "    <tr>\n",
       "      <td>0</td>\n",
       "      <td>812879</td>\n",
       "      <td>899</td>\n",
       "      <td>4</td>\n",
       "    </tr>\n",
       "    <tr>\n",
       "      <td>1</td>\n",
       "      <td>3845720</td>\n",
       "      <td>770</td>\n",
       "      <td>3</td>\n",
       "    </tr>\n",
       "    <tr>\n",
       "      <td>2</td>\n",
       "      <td>2032668</td>\n",
       "      <td>629</td>\n",
       "      <td>4</td>\n",
       "    </tr>\n",
       "    <tr>\n",
       "      <td>3</td>\n",
       "      <td>2331370</td>\n",
       "      <td>621</td>\n",
       "      <td>4</td>\n",
       "    </tr>\n",
       "    <tr>\n",
       "      <td>4</td>\n",
       "      <td>138964</td>\n",
       "      <td>586</td>\n",
       "      <td>3</td>\n",
       "    </tr>\n",
       "  </tbody>\n",
       "</table>\n",
       "</div>"
      ],
      "text/plain": [
       "   item_id   pv  buy\n",
       "0   812879  899    4\n",
       "1  3845720  770    3\n",
       "2  2032668  629    4\n",
       "3  2331370  621    4\n",
       "4   138964  586    3"
      ]
     },
     "execution_count": 432,
     "metadata": {},
     "output_type": "execute_result"
    }
   ],
   "source": [
    "data_pv_buy=pd.merge(data_pv,data_buy,left_on='item_id',right_on='item_id',how='inner')\n",
    "data_pv_buy.head()"
   ]
  },
  {
   "cell_type": "code",
   "execution_count": 433,
   "metadata": {},
   "outputs": [
    {
     "data": {
      "text/html": [
       "<div>\n",
       "<style scoped>\n",
       "    .dataframe tbody tr th:only-of-type {\n",
       "        vertical-align: middle;\n",
       "    }\n",
       "\n",
       "    .dataframe tbody tr th {\n",
       "        vertical-align: top;\n",
       "    }\n",
       "\n",
       "    .dataframe thead th {\n",
       "        text-align: right;\n",
       "    }\n",
       "</style>\n",
       "<table border=\"1\" class=\"dataframe\">\n",
       "  <thead>\n",
       "    <tr style=\"text-align: right;\">\n",
       "      <th></th>\n",
       "      <th>item_id</th>\n",
       "      <th>pv</th>\n",
       "      <th>buy</th>\n",
       "      <th>转化率%</th>\n",
       "    </tr>\n",
       "  </thead>\n",
       "  <tbody>\n",
       "    <tr>\n",
       "      <td>0</td>\n",
       "      <td>812879</td>\n",
       "      <td>899</td>\n",
       "      <td>4</td>\n",
       "      <td>0.44</td>\n",
       "    </tr>\n",
       "    <tr>\n",
       "      <td>1</td>\n",
       "      <td>3845720</td>\n",
       "      <td>770</td>\n",
       "      <td>3</td>\n",
       "      <td>0.39</td>\n",
       "    </tr>\n",
       "    <tr>\n",
       "      <td>2</td>\n",
       "      <td>2032668</td>\n",
       "      <td>629</td>\n",
       "      <td>4</td>\n",
       "      <td>0.64</td>\n",
       "    </tr>\n",
       "    <tr>\n",
       "      <td>3</td>\n",
       "      <td>2331370</td>\n",
       "      <td>621</td>\n",
       "      <td>4</td>\n",
       "      <td>0.64</td>\n",
       "    </tr>\n",
       "    <tr>\n",
       "      <td>4</td>\n",
       "      <td>138964</td>\n",
       "      <td>586</td>\n",
       "      <td>3</td>\n",
       "      <td>0.51</td>\n",
       "    </tr>\n",
       "  </tbody>\n",
       "</table>\n",
       "</div>"
      ],
      "text/plain": [
       "   item_id   pv  buy  转化率%\n",
       "0   812879  899    4  0.44\n",
       "1  3845720  770    3  0.39\n",
       "2  2032668  629    4  0.64\n",
       "3  2331370  621    4  0.64\n",
       "4   138964  586    3  0.51"
      ]
     },
     "execution_count": 433,
     "metadata": {},
     "output_type": "execute_result"
    }
   ],
   "source": [
    "data_pv_buy['转化率%']=round(data_pv_buy.buy/data_pv_buy.pv,4)\n",
    "data_pv_buy['转化率%']=data_pv_buy['转化率%'].apply(lambda x: format(x,'.2%'))\n",
    "data_pv_buy['转化率%']=data_pv_buy['转化率%'].str.strip('%').astype(float)\n",
    "data_pv_buy=data_pv_buy.sort_values('pv',ascending=False)\n",
    "data_pv_buy=data_pv_buy.iloc[:100,:]\n",
    "data_pv_buy.head()"
   ]
  },
  {
   "cell_type": "code",
   "execution_count": 434,
   "metadata": {
    "collapsed": true
   },
   "outputs": [
    {
     "data": {
      "text/html": [
       "<div>\n",
       "<style scoped>\n",
       "    .dataframe tbody tr th:only-of-type {\n",
       "        vertical-align: middle;\n",
       "    }\n",
       "\n",
       "    .dataframe tbody tr th {\n",
       "        vertical-align: top;\n",
       "    }\n",
       "\n",
       "    .dataframe thead th {\n",
       "        text-align: right;\n",
       "    }\n",
       "</style>\n",
       "<table border=\"1\" class=\"dataframe\">\n",
       "  <thead>\n",
       "    <tr style=\"text-align: right;\">\n",
       "      <th></th>\n",
       "      <th>item_id</th>\n",
       "      <th>pv</th>\n",
       "      <th>buy</th>\n",
       "      <th>转化率%</th>\n",
       "    </tr>\n",
       "  </thead>\n",
       "  <tbody>\n",
       "    <tr>\n",
       "      <td>6</td>\n",
       "      <td>59883</td>\n",
       "      <td>537</td>\n",
       "      <td>1</td>\n",
       "      <td>0.19</td>\n",
       "    </tr>\n",
       "    <tr>\n",
       "      <td>9</td>\n",
       "      <td>4211339</td>\n",
       "      <td>527</td>\n",
       "      <td>1</td>\n",
       "      <td>0.19</td>\n",
       "    </tr>\n",
       "    <tr>\n",
       "      <td>18</td>\n",
       "      <td>640975</td>\n",
       "      <td>402</td>\n",
       "      <td>1</td>\n",
       "      <td>0.25</td>\n",
       "    </tr>\n",
       "    <tr>\n",
       "      <td>29</td>\n",
       "      <td>3011437</td>\n",
       "      <td>325</td>\n",
       "      <td>1</td>\n",
       "      <td>0.31</td>\n",
       "    </tr>\n",
       "    <tr>\n",
       "      <td>32</td>\n",
       "      <td>3529591</td>\n",
       "      <td>319</td>\n",
       "      <td>1</td>\n",
       "      <td>0.31</td>\n",
       "    </tr>\n",
       "    <tr>\n",
       "      <td>31</td>\n",
       "      <td>1951985</td>\n",
       "      <td>321</td>\n",
       "      <td>1</td>\n",
       "      <td>0.31</td>\n",
       "    </tr>\n",
       "    <tr>\n",
       "      <td>33</td>\n",
       "      <td>2783905</td>\n",
       "      <td>311</td>\n",
       "      <td>1</td>\n",
       "      <td>0.32</td>\n",
       "    </tr>\n",
       "    <tr>\n",
       "      <td>35</td>\n",
       "      <td>2828948</td>\n",
       "      <td>302</td>\n",
       "      <td>1</td>\n",
       "      <td>0.33</td>\n",
       "    </tr>\n",
       "    <tr>\n",
       "      <td>47</td>\n",
       "      <td>4622270</td>\n",
       "      <td>281</td>\n",
       "      <td>1</td>\n",
       "      <td>0.36</td>\n",
       "    </tr>\n",
       "    <tr>\n",
       "      <td>49</td>\n",
       "      <td>1541734</td>\n",
       "      <td>273</td>\n",
       "      <td>1</td>\n",
       "      <td>0.37</td>\n",
       "    </tr>\n",
       "    <tr>\n",
       "      <td>50</td>\n",
       "      <td>105055</td>\n",
       "      <td>263</td>\n",
       "      <td>1</td>\n",
       "      <td>0.38</td>\n",
       "    </tr>\n",
       "    <tr>\n",
       "      <td>52</td>\n",
       "      <td>775348</td>\n",
       "      <td>260</td>\n",
       "      <td>1</td>\n",
       "      <td>0.38</td>\n",
       "    </tr>\n",
       "    <tr>\n",
       "      <td>61</td>\n",
       "      <td>4336726</td>\n",
       "      <td>254</td>\n",
       "      <td>1</td>\n",
       "      <td>0.39</td>\n",
       "    </tr>\n",
       "    <tr>\n",
       "      <td>1</td>\n",
       "      <td>3845720</td>\n",
       "      <td>770</td>\n",
       "      <td>3</td>\n",
       "      <td>0.39</td>\n",
       "    </tr>\n",
       "    <tr>\n",
       "      <td>60</td>\n",
       "      <td>5128303</td>\n",
       "      <td>254</td>\n",
       "      <td>1</td>\n",
       "      <td>0.39</td>\n",
       "    </tr>\n",
       "    <tr>\n",
       "      <td>58</td>\n",
       "      <td>2922853</td>\n",
       "      <td>254</td>\n",
       "      <td>1</td>\n",
       "      <td>0.39</td>\n",
       "    </tr>\n",
       "    <tr>\n",
       "      <td>59</td>\n",
       "      <td>2778083</td>\n",
       "      <td>254</td>\n",
       "      <td>1</td>\n",
       "      <td>0.39</td>\n",
       "    </tr>\n",
       "    <tr>\n",
       "      <td>65</td>\n",
       "      <td>240034</td>\n",
       "      <td>252</td>\n",
       "      <td>1</td>\n",
       "      <td>0.40</td>\n",
       "    </tr>\n",
       "    <tr>\n",
       "      <td>66</td>\n",
       "      <td>3990990</td>\n",
       "      <td>252</td>\n",
       "      <td>1</td>\n",
       "      <td>0.40</td>\n",
       "    </tr>\n",
       "    <tr>\n",
       "      <td>68</td>\n",
       "      <td>3000506</td>\n",
       "      <td>251</td>\n",
       "      <td>1</td>\n",
       "      <td>0.40</td>\n",
       "    </tr>\n",
       "    <tr>\n",
       "      <td>69</td>\n",
       "      <td>3761770</td>\n",
       "      <td>250</td>\n",
       "      <td>1</td>\n",
       "      <td>0.40</td>\n",
       "    </tr>\n",
       "    <tr>\n",
       "      <td>64</td>\n",
       "      <td>3080593</td>\n",
       "      <td>253</td>\n",
       "      <td>1</td>\n",
       "      <td>0.40</td>\n",
       "    </tr>\n",
       "    <tr>\n",
       "      <td>74</td>\n",
       "      <td>3427154</td>\n",
       "      <td>241</td>\n",
       "      <td>1</td>\n",
       "      <td>0.41</td>\n",
       "    </tr>\n",
       "    <tr>\n",
       "      <td>73</td>\n",
       "      <td>2319849</td>\n",
       "      <td>241</td>\n",
       "      <td>1</td>\n",
       "      <td>0.41</td>\n",
       "    </tr>\n",
       "    <tr>\n",
       "      <td>77</td>\n",
       "      <td>207994</td>\n",
       "      <td>236</td>\n",
       "      <td>1</td>\n",
       "      <td>0.42</td>\n",
       "    </tr>\n",
       "    <tr>\n",
       "      <td>79</td>\n",
       "      <td>1457948</td>\n",
       "      <td>235</td>\n",
       "      <td>1</td>\n",
       "      <td>0.43</td>\n",
       "    </tr>\n",
       "    <tr>\n",
       "      <td>80</td>\n",
       "      <td>2566203</td>\n",
       "      <td>230</td>\n",
       "      <td>1</td>\n",
       "      <td>0.43</td>\n",
       "    </tr>\n",
       "    <tr>\n",
       "      <td>81</td>\n",
       "      <td>1989476</td>\n",
       "      <td>229</td>\n",
       "      <td>1</td>\n",
       "      <td>0.44</td>\n",
       "    </tr>\n",
       "    <tr>\n",
       "      <td>84</td>\n",
       "      <td>3840397</td>\n",
       "      <td>227</td>\n",
       "      <td>1</td>\n",
       "      <td>0.44</td>\n",
       "    </tr>\n",
       "    <tr>\n",
       "      <td>0</td>\n",
       "      <td>812879</td>\n",
       "      <td>899</td>\n",
       "      <td>4</td>\n",
       "      <td>0.44</td>\n",
       "    </tr>\n",
       "  </tbody>\n",
       "</table>\n",
       "</div>"
      ],
      "text/plain": [
       "    item_id   pv  buy  转化率%\n",
       "6     59883  537    1  0.19\n",
       "9   4211339  527    1  0.19\n",
       "18   640975  402    1  0.25\n",
       "29  3011437  325    1  0.31\n",
       "32  3529591  319    1  0.31\n",
       "31  1951985  321    1  0.31\n",
       "33  2783905  311    1  0.32\n",
       "35  2828948  302    1  0.33\n",
       "47  4622270  281    1  0.36\n",
       "49  1541734  273    1  0.37\n",
       "50   105055  263    1  0.38\n",
       "52   775348  260    1  0.38\n",
       "61  4336726  254    1  0.39\n",
       "1   3845720  770    3  0.39\n",
       "60  5128303  254    1  0.39\n",
       "58  2922853  254    1  0.39\n",
       "59  2778083  254    1  0.39\n",
       "65   240034  252    1  0.40\n",
       "66  3990990  252    1  0.40\n",
       "68  3000506  251    1  0.40\n",
       "69  3761770  250    1  0.40\n",
       "64  3080593  253    1  0.40\n",
       "74  3427154  241    1  0.41\n",
       "73  2319849  241    1  0.41\n",
       "77   207994  236    1  0.42\n",
       "79  1457948  235    1  0.43\n",
       "80  2566203  230    1  0.43\n",
       "81  1989476  229    1  0.44\n",
       "84  3840397  227    1  0.44\n",
       "0    812879  899    4  0.44"
      ]
     },
     "execution_count": 434,
     "metadata": {},
     "output_type": "execute_result"
    }
   ],
   "source": [
    "data_pv_buy=data_pv_buy.sort_values('转化率%').iloc[:30,:]\n",
    "data_pv_buy"
   ]
  },
  {
   "cell_type": "code",
   "execution_count": 436,
   "metadata": {},
   "outputs": [
    {
     "data": {
      "text/plain": [
       "Text(0.5, 1.0, '点击率TOP100中转化率最低的30个item')"
      ]
     },
     "execution_count": 436,
     "metadata": {},
     "output_type": "execute_result"
    },
    {
     "data": {
      "image/png": "[encoded data removed]",
      "text/plain": [
       "<Figure size 720x720 with 1 Axes>"
      ]
     },
     "metadata": {},
     "output_type": "display_data"
    }
   ],
   "source": [
    "plt.figure(figsize=(10,10))\n",
    "sns.barplot(y=data_pv_buy['item_id'],x=data_pv_buy['转化率%'],data=data_pv_buy,orient='h',alpha=0.8,color='orangered')\n",
    "plt.title('点击率TOP100中转化率最低的30个item')"
   ]
  },
  {
   "cell_type": "code",
   "execution_count": 245,
   "metadata": {},
   "outputs": [
    {
     "data": {
      "text/plain": [
       "2684410"
      ]
     },
     "execution_count": 245,
     "metadata": {},
     "output_type": "execute_result"
    }
   ],
   "source": [
    "#APP访问总量/访问用户总数\n",
    "pv=data_user[data_user.behavior=='pv'].user_id.count()\n",
    "pv"
   ]
  },
  {
   "cell_type": "code",
   "execution_count": 244,
   "metadata": {},
   "outputs": [
    {
     "data": {
      "text/plain": [
       "29178"
      ]
     },
     "execution_count": 244,
     "metadata": {},
     "output_type": "execute_result"
    }
   ],
   "source": [
    "uv=len(data_user.user_id.unique())\n",
    "uv"
   ]
  },
  {
   "cell_type": "code",
   "execution_count": 246,
   "metadata": {},
   "outputs": [
    {
     "data": {
      "text/plain": [
       "92.00116526149839"
      ]
     },
     "execution_count": 246,
     "metadata": {},
     "output_type": "execute_result"
    }
   ],
   "source": [
    "pv/uv"
   ]
  },
  {
   "cell_type": "code",
   "execution_count": 256,
   "metadata": {},
   "outputs": [
    {
     "data": {
      "text/plain": [
       "1"
      ]
     },
     "execution_count": 256,
     "metadata": {},
     "output_type": "execute_result"
    }
   ],
   "source": [
    "#跳失率=只点击一次浏览的用户数量/总用户访问量\n",
    "(data_user.groupby('user_id').behavior.count()==1).sum()"
   ]
  },
  {
   "cell_type": "markdown",
   "metadata": {},
   "source": [
    "在统计时间内，只有1人只浏览过一个页面就离开了APP，可以忽略不计，说明淘宝拥有足够的吸引力让用户停留在APP中"
   ]
  },
  {
   "cell_type": "code",
   "execution_count": 261,
   "metadata": {},
   "outputs": [
    {
     "data": {
      "text/html": [
       "<div>\n",
       "<style scoped>\n",
       "    .dataframe tbody tr th:only-of-type {\n",
       "        vertical-align: middle;\n",
       "    }\n",
       "\n",
       "    .dataframe tbody tr th {\n",
       "        vertical-align: top;\n",
       "    }\n",
       "\n",
       "    .dataframe thead th {\n",
       "        text-align: right;\n",
       "    }\n",
       "</style>\n",
       "<table border=\"1\" class=\"dataframe\">\n",
       "  <thead>\n",
       "    <tr style=\"text-align: right;\">\n",
       "      <th></th>\n",
       "      <th>behavior</th>\n",
       "      <th>count</th>\n",
       "    </tr>\n",
       "  </thead>\n",
       "  <tbody>\n",
       "    <tr>\n",
       "      <td>3</td>\n",
       "      <td>pv</td>\n",
       "      <td>2684410</td>\n",
       "    </tr>\n",
       "    <tr>\n",
       "      <td>1</td>\n",
       "      <td>cart</td>\n",
       "      <td>167572</td>\n",
       "    </tr>\n",
       "    <tr>\n",
       "      <td>2</td>\n",
       "      <td>fav</td>\n",
       "      <td>86576</td>\n",
       "    </tr>\n",
       "    <tr>\n",
       "      <td>0</td>\n",
       "      <td>buy</td>\n",
       "      <td>59974</td>\n",
       "    </tr>\n",
       "  </tbody>\n",
       "</table>\n",
       "</div>"
      ],
      "text/plain": [
       "  behavior    count\n",
       "3       pv  2684410\n",
       "1     cart   167572\n",
       "2      fav    86576\n",
       "0      buy    59974"
      ]
     },
     "execution_count": 261,
     "metadata": {},
     "output_type": "execute_result"
    }
   ],
   "source": [
    "#用户各类行为总数\n",
    "data_user.groupby('behavior').user_id.count().reset_index().rename(columns={'user_id':'count'}).sort_values('count',ascending=False)"
   ]
  },
  {
   "cell_type": "code",
   "execution_count": 268,
   "metadata": {},
   "outputs": [
    {
     "data": {
      "text/plain": [
       "behavior\n",
       "pv      29049\n",
       "cart    22061\n",
       "buy     19902\n",
       "fav     11701\n",
       "Name: user_id, dtype: int64"
      ]
     },
     "execution_count": 268,
     "metadata": {},
     "output_type": "execute_result"
    }
   ],
   "source": [
    "#独立行为用户漏斗模型计算:\n",
    "data_user.groupby('behavior').user_id.apply(lambda x:len(x.unique())).sort_values(ascending=False)"
   ]
  },
  {
   "cell_type": "markdown",
   "metadata": {},
   "source": [
    "以上是各类行为的用户数，buy/pv≈68%的付费率，超过2/3的用户进行了下单购买行为，可见淘宝用户的付费转化率相当高"
   ]
  },
  {
   "cell_type": "code",
   "execution_count": null,
   "metadata": {},
   "outputs": [],
   "source": []
  }
 ],
 "metadata": {
  "kernelspec": {
   "display_name": "Python 3",
   "language": "python",
   "name": "python3"
  },
  "language_info": {
   "codemirror_mode": {
    "name": "ipython",
    "version": 3
   },
   "file_extension": ".py",
   "mimetype": "text/x-python",
   "name": "python",
   "nbconvert_exporter": "python",
   "pygments_lexer": "ipython3",
   "version": "3.7.4"
  }
 },
 "nbformat": 4,
 "nbformat_minor": 2
}
